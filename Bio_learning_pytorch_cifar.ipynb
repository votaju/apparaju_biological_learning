{
 "cells": [
  {
   "cell_type": "code",
   "execution_count": 1,
   "metadata": {},
   "outputs": [],
   "source": [
    "import math\n",
    "import matplotlib.pyplot as plt\n",
    "import numpy as np\n",
    "import pandas as pd\n",
    "import torch\n",
    "import torch.nn as nn\n",
    "import torch.nn.functional as F\n",
    "import torchvision\n",
    "import torchvision.transforms as transforms"
   ]
  },
  {
   "cell_type": "code",
   "execution_count": 2,
   "metadata": {},
   "outputs": [
    {
     "name": "stdout",
     "output_type": "stream",
     "text": [
      "cuda\n"
     ]
    }
   ],
   "source": [
    "# Device configuration\n",
    "device = torch.device('cuda' if torch.cuda.is_available() else 'cpu')\n",
    "print(device)"
   ]
  },
  {
   "cell_type": "code",
   "execution_count": 3,
   "metadata": {},
   "outputs": [],
   "source": [
    "# Initialize variables required for the algorithm\n",
    "\n",
    "learning_rate = 2e-2    # initial learning rate\n",
    "Kx = 10\n",
    "Ky = 10\n",
    "n_hidden = 2000         # number of hidden units in hidden layer\n",
    "mu = 0.0                # mean for gaussian distribution to initialize weights with\n",
    "sigma = 1.0             # standard deviation for gaussian distribution to initialize weights with\n",
    "n_epochs = 1000          # number of epochs\n",
    "batch_size = 1000        # size of the minibatch\n",
    "precision = 1e-30       # parameter to control numerical precision of weight updates\n",
    "\n",
    "# From the paper\n",
    "# p ∈ {2, 3, 4, 5}\n",
    "# k ∈ {2, 3}\n",
    "# delta ∈ {0, 0.1, 0.2, 0.3}\n",
    "lebesgue_norm = 2.0                     # Lebesgue norm of the weights. p\n",
    "rank = 2                                # ranking parameter, must be integer that is bigger or equal than 2. k\n",
    "anti_hebbian_learning_strength = 0.0    # Strength of the anti-hebbian learning. delta\n"
   ]
  },
  {
   "cell_type": "code",
   "execution_count": 4,
   "metadata": {},
   "outputs": [],
   "source": [
    "# UNSUPERVISED 'BIO' LEARNING ALGORITHM\n",
    "\n",
    "# Define function that performs the unsupervised learning and returns weights\n",
    "# that correspond to feature detectors.\n",
    "# Uses cuda if available.\n",
    "def get_unsupervised_weights(data, n_hidden, n_epochs, batch_size, learning_rate, precision, \n",
    "                             anti_hebbian_learning_strength, lebesgue_norm, rank):\n",
    "    print(\"Starting unsupervised bio-plausible training\")\n",
    "    \n",
    "    num_samples = data.shape[0]   # Number of samples/images.\n",
    "    num_features = data.shape[1]  # Number of pixels for each sample/image.\n",
    "    \n",
    "    # Initialize weights to be values drawn from gaussian distribution.\n",
    "    synapses = np.random.normal(mu, sigma, (n_hidden, num_features)).astype(np.float32)\n",
    "    weights = torch.from_numpy(synapses).to(device)\n",
    "\n",
    "    # The external loop runs over epochs\n",
    "    for epoch in range(n_epochs):\n",
    "        eps = learning_rate * (1 - epoch / n_epochs)\n",
    "\n",
    "        # Scramble the images and values. So that when making a\n",
    "        # mini batch, random values/images will be chosen on each iteration.\n",
    "        random_permutation_samples = np.random.permutation(num_samples)\n",
    "        shuffled_epoch_data = data[random_permutation_samples,:]\n",
    "\n",
    "        # Internal loop runs over minibatches    \n",
    "        for i in range(num_samples // batch_size):        \n",
    "            # For every minibatch the overlap with the data (tot_input) is \n",
    "            # calculated for each data point and each hidden unit.\n",
    "            mini_batch = shuffled_epoch_data[i*batch_size:(i+1)*batch_size,:].astype(np.float32)\n",
    "            mini_batch = torch.from_numpy(mini_batch).to(device)           \n",
    "            mini_batch = torch.transpose(mini_batch, 0, 1)\n",
    "\n",
    "            sign = torch.sign(weights)            \n",
    "            W = sign * torch.abs(weights) ** (lebesgue_norm - 1)    \n",
    "            # https://stackoverflow.com/questions/44524901/how-to-do-product-of-matrices-in-pytorch\n",
    "            tot_input_torch = torch.mm(W, mini_batch)\n",
    "\n",
    "            # The sorted strengths of the activations are stored in y. \n",
    "            # The variable yl stores the activations of the post synaptic cells - \n",
    "            # it is denoted by g(Q) in Eq 3 of 'Unsupervised Learning by Competing Hidden Units', see also Eq 9 and Eq 10.        \n",
    "            y_torch = torch.argsort(tot_input_torch, dim=0)            \n",
    "            yl_torch = torch.zeros((n_hidden, batch_size), dtype = torch.float).to(device)\n",
    "            yl_torch[y_torch[n_hidden-1,:], torch.arange(batch_size)] = 1.0\n",
    "            yl_torch[y_torch[n_hidden-rank], torch.arange(batch_size)] = -anti_hebbian_learning_strength\n",
    "\n",
    "            # The variable ds is the right hand side of Eq 3        \n",
    "            xx_torch = torch.sum(yl_torch * tot_input_torch,1)  \n",
    "            xx_torch = xx_torch.unsqueeze(1)                    \n",
    "            xx_torch = xx_torch.repeat(1, num_features)\n",
    "            ds_torch = torch.mm(yl_torch, torch.transpose(mini_batch, 0, 1)) - (xx_torch * weights)\n",
    "\n",
    "            # Update weights\n",
    "            # The weights are updated after each minibatch in a way so that the largest update \n",
    "            # is equal to the learning rate eps at that epoch.        \n",
    "            nc_torch = torch.max(torch.abs(ds_torch))\n",
    "            if nc_torch < precision: \n",
    "                nc_torch = precision            \n",
    "            weights += eps*(ds_torch/nc_torch)\n",
    "\n",
    "            #if (i+1) % 100 == 0:\n",
    "            #    print (f'Epoch [{epoch+1}/{n_epochs}], Step [{i+1}/{num_samples // batch_size}]')\n",
    "\n",
    "        print (f'Epoch [{epoch+1}/{n_epochs}]')\n",
    "        \n",
    "    print(\"Completed unsupervised bio-plausible training\")\n",
    "    return weights\n",
    "    #return weights.cpu().numpy()\n"
   ]
  },
  {
   "cell_type": "code",
   "execution_count": 6,
   "metadata": {},
   "outputs": [
    {
     "name": "stdout",
     "output_type": "stream",
     "text": [
      "Files already downloaded and verified\n"
     ]
    }
   ],
   "source": [
    "# 1) LOAD CIFAR-10 DATA\n",
    "\n",
    "transform = transforms.Compose([transforms.ToTensor()])\n",
    "transform_grayscale = transforms.Compose([transforms.Grayscale(num_output_channels=1), transforms.ToTensor()])\n",
    "\n",
    "# CIFAR-10 dataset \n",
    "# train_dataset = torchvision.datasets.CIFAR10(root='./gray_data', \n",
    "#                                             train=True, \n",
    "#                                             transform=transform,  \n",
    "#                                             download=True)\n",
    "\n",
    "# test_dataset = torchvision.datasets.CIFAR10(root='./gray_data', \n",
    "#                                           train=False, \n",
    "#                                           transform=transform)\n",
    "\n",
    "train_dataset = torchvision.datasets.CIFAR10(root='./data', \n",
    "                                            train=True, \n",
    "                                            transform=transform,  \n",
    "                                            download=True)\n",
    "\n",
    "test_dataset = torchvision.datasets.CIFAR10(root='./data', \n",
    "                                          train=False, \n",
    "                                          transform=transform)\n",
    "\n",
    "cifar_classes = ('plane', 'car', 'bird', 'cat', 'deer', 'dog', 'frog', 'horse', 'ship', 'truck')\n"
   ]
  },
  {
   "cell_type": "code",
   "execution_count": 14,
   "metadata": {},
   "outputs": [
    {
     "name": "stdout",
     "output_type": "stream",
     "text": [
      "(3, 32, 32)\n",
      "(32, 32, 3)\n"
     ]
    },
    {
     "data": {
      "image/png": "[encoded data removed]",
      "text/plain": [
       "<Figure size 432x288 with 1 Axes>"
      ]
     },
     "metadata": {
      "needs_background": "light"
     },
     "output_type": "display_data"
    }
   ],
   "source": [
    "# Data loader\n",
    "train_loader = torch.utils.data.DataLoader(dataset=train_dataset, \n",
    "                                           batch_size=batch_size, \n",
    "                                           shuffle=True)\n",
    "\n",
    "test_loader = torch.utils.data.DataLoader(dataset=test_dataset, \n",
    "                                          batch_size=batch_size, \n",
    "                                          shuffle=False)\n",
    "\n",
    "def imshow(img):\n",
    "    # Unnormalize before plotting is not needed because there is no normalization applied yet at this point\n",
    "    npimg = img.numpy()\n",
    "    print(npimg.shape)\n",
    "    npimg_transpose = np.transpose(npimg, (1, 2, 0))\n",
    "    print(npimg_transpose.shape)\n",
    "    plt.imshow(npimg_transpose)\n",
    "    plt.show()\n",
    "    \n",
    "examples = iter(test_loader)\n",
    "example_data, example_targets = examples.next()\n",
    "image = example_data[0]\n",
    "imshow(image)\n",
    "\n",
    "#npimg = image.numpy()\n",
    "#npimg = npimg.reshape(32, 32, 3) # DOES NOT WORK!\n",
    "#npimg = np.transpose(npimg, (1, 2, 0)) # WORKS\n",
    "# Using transpose instead of reshape actually help to display the image correctly\n",
    "#print(npimg.shape)\n",
    "#plt.imshow(npimg)\n",
    "\n"
   ]
  },
  {
   "cell_type": "code",
   "execution_count": 18,
   "metadata": {},
   "outputs": [
    {
     "name": "stdout",
     "output_type": "stream",
     "text": [
      "(3, 32, 32)\n",
      "(32, 32, 3)\n",
      "(3072, 1)\n",
      "(32, 32, 3)\n"
     ]
    },
    {
     "data": {
      "image/png": "[encoded data removed]",
      "text/plain": [
       "<Figure size 432x288 with 1 Axes>"
      ]
     },
     "metadata": {
      "needs_background": "light"
     },
     "output_type": "display_data"
    }
   ],
   "source": [
    "# Data loader and try something\n",
    "train_loader = torch.utils.data.DataLoader(dataset=train_dataset, \n",
    "                                           batch_size=batch_size, \n",
    "                                           shuffle=True)\n",
    "\n",
    "test_loader = torch.utils.data.DataLoader(dataset=test_dataset, \n",
    "                                          batch_size=batch_size, \n",
    "                                          shuffle=False)\n",
    "\n",
    "def imshow_try(img):\n",
    "    # Unnormalize before plotting is not needed because there is no normalization applied yet at this point\n",
    "    npimg = img.numpy()\n",
    "    print(npimg.shape)\n",
    "    npimg_transpose = np.transpose(npimg, (1, 2, 0))\n",
    "    print(npimg_transpose.shape)\n",
    "    \n",
    "    npimg_transpose_reshape = npimg_transpose.reshape(32*32*3, -1)\n",
    "    print(npimg_transpose_reshape.shape)\n",
    "    \n",
    "    npimg_transpose_back = npimg_transpose_reshape.reshape(32, 32, 3)\n",
    "    print(npimg_transpose_back.shape)\n",
    "    \n",
    "    #plt.imshow(npimg_transpose)\n",
    "    plt.imshow(npimg_transpose_back)\n",
    "    plt.show()\n",
    "    \n",
    "examples = iter(test_loader)\n",
    "example_data, example_targets = examples.next()\n",
    "image = example_data[0]\n",
    "imshow_try(image)\n",
    "\n",
    "#npimg = image.numpy()\n",
    "#npimg = npimg.reshape(32, 32, 3) # DOES NOT WORK!\n",
    "#npimg = np.transpose(npimg, (1, 2, 0)) # WORKS\n",
    "# Using transpose instead of reshape actually help to display the image correctly\n",
    "#print(npimg.shape)\n",
    "#plt.imshow(npimg)\n",
    "\n"
   ]
  },
  {
   "cell_type": "code",
   "execution_count": null,
   "metadata": {
    "scrolled": false
   },
   "outputs": [
    {
     "name": "stdout",
     "output_type": "stream",
     "text": [
      "M.shape: (3072, 0)\n",
      "i : 0\n",
      "images.shape: torch.Size([25000, 3, 32, 32])\n",
      "x: 1000\n",
      "x: 2000\n",
      "x: 3000\n",
      "x: 4000\n",
      "x: 5000\n",
      "x: 6000\n",
      "x: 7000\n",
      "x: 8000\n",
      "x: 9000\n",
      "x: 10000\n",
      "x: 11000\n",
      "x: 12000\n",
      "x: 13000\n",
      "x: 14000\n",
      "x: 15000\n",
      "x: 16000\n",
      "x: 17000\n",
      "x: 18000\n",
      "x: 19000\n",
      "x: 20000\n",
      "x: 21000\n",
      "x: 22000\n"
     ]
    }
   ],
   "source": [
    "# CONSTRUCT OBJECT REQUIRED FOR UNSUPERVISED LEARNING \n",
    "# Use temporary loaders to construct the required object\n",
    "\n",
    "num_classes=10 # number of classes\n",
    "num_pixels=32*32 # number of pixels for each image. 32x32\n",
    "num_channels = 3 # RGB\n",
    "\n",
    "#M = np.zeros((0, num_pixels*num_channels)) # Want 3072-dimensional space\n",
    "M = np.zeros((num_pixels*num_channels, 0)) # Want 3072-dimensional space\n",
    "# TODO Take transpose of M later\n",
    "print(f'M.shape: {M.shape}')\n",
    "\n",
    "train_loader_temp = torch.utils.data.DataLoader(train_dataset, batch_size=25000)\n",
    "\n",
    "def img_print_try(img):\n",
    "    npimg = img.numpy()\n",
    "    #print(f'npimg.shape: {npimg.shape}')\n",
    "    npimg_transpose = np.transpose(npimg, (1, 2, 0))\n",
    "    #print(f'npimg_transpose.shape: {npimg_transpose.shape}')\n",
    "    \n",
    "    npimg_transpose_reshape = npimg_transpose.reshape(32*32*3, -1)\n",
    "    #print(f'npimg_transpose_reshape.shape: {npimg_transpose_reshape.shape}')\n",
    "    \n",
    "    return npimg_transpose_reshape\n",
    "\n",
    "\n",
    "# Ensure M has shape (num_samples, 3072)\n",
    "# For MNIST, M had the following shape before applying unsupervised learning: (60000, 784)\n",
    "# Do in a couple iterations, each handling half of the training data\n",
    "x = 0\n",
    "for i, (images, labels) in enumerate(train_loader_temp):\n",
    "    print(f'i : {i}')\n",
    "    print(f'images.shape: {images.shape}')\n",
    "    \n",
    "    for image in images:\n",
    "        #print(f'image.shape: {image.shape}')\n",
    "        image_transpose = img_print_try(image)\n",
    "        #print(f'image_transpose.shape: {image_transpose.shape}')\n",
    "        M=np.concatenate((M, image_transpose), axis=1)\n",
    "        if (x+1) % 1000 == 0:\n",
    "            print(f'x: {x+1}')\n",
    "        x = x+1\n",
    "    \n",
    "    print(f'### M.shape: {M.shape}')\n",
    "    \n",
    "    # I think safe to delete stuff below\n",
    "    #np_images = images.numpy()\n",
    "    #print(np_images.shape)\n",
    "    #np_images_transpose = np.transpose(np_images, (1, 2, 0))\n",
    "    #print(np_images_transpose.shape)\n",
    "    \n",
    "    #images = torch.reshape(images, (25000,-1)).numpy()\n",
    "    #M=np.concatenate((M, images), axis=0)\n",
    "\n",
    "print(f'FINAL M.shape: {M.shape}')\n",
    "print(\"Fin\")"
   ]
  },
  {
   "cell_type": "code",
   "execution_count": null,
   "metadata": {},
   "outputs": [],
   "source": [
    "\n",
    "for i, (images, labels) in enumerate(train_loader_grayscale):\n",
    "    print(images.shape)\n",
    "    images = torch.reshape(images, (25000,-1)).numpy()    \n",
    "    M_grayscale=np.concatenate((M_grayscale, images), axis=0)\n",
    "    \n",
    "data = M\n",
    "data_grayscale = M_grayscale\n",
    "\n",
    "\n",
    "print(data.shape)\n",
    "print(data_grayscale.shape)\n",
    "\n",
    "data_cifar = data\n",
    "data_cifar_grayscale = data_grayscale\n",
    "\n",
    "\n",
    "# NORMALIZATION as per the \"Hidden Competing Units\" paper\n",
    "# L2-normalize the training samples to unit vectors.\n",
    "#data_cifar = preprocessing.normalize(data, norm='l2')\n",
    "#print(f'CIFAR-10 training data shape: {data_cifar.shape}')\n",
    "#print(f'Number of CIFAR-10 training samples: {data_cifar.shape[0]}')\n",
    "#print(f'Number of CIFAR-10 features: {data_cifar.shape[1]}')\n",
    "\n",
    "\n",
    "# Test print normalized data\n",
    "#sample_data = data_cifar[0]\n",
    "#print(sample_data.shape)\n",
    "#print(\"Magnitude of the normalized vector:\")\n",
    "#print(np.linalg.norm(sample_data))\n",
    "#print(sample_data)\n",
    "#print(np.amax(data_cifar))\n",
    "#print(np.amin(data_cifar))"
   ]
  },
  {
   "cell_type": "code",
   "execution_count": null,
   "metadata": {},
   "outputs": [],
   "source": []
  },
  {
   "cell_type": "code",
   "execution_count": null,
   "metadata": {},
   "outputs": [],
   "source": [
    "M_backup = M\n",
    "M_frozen = M\n"
   ]
  },
  {
   "cell_type": "code",
   "execution_count": null,
   "metadata": {},
   "outputs": [],
   "source": [
    "# TRY TO SEE IF M IS BEING CONSTRUCTED PROPERLY BY PLOTTING THE IMAGES AFTER M IS CONSTRUCTED\n",
    "\n",
    "def imshow_try(img):\n",
    "    # Unnormalize before plotting is not needed because there is no normalization applied yet at this point\n",
    "    npimg = img.numpy()\n",
    "    print(npimg.shape)\n",
    "    npimg_transpose = np.transpose(npimg, (1, 2, 0))\n",
    "    print(npimg_transpose.shape)\n",
    "    \n",
    "    npimg_transpose_reshape = npimg_transpose.reshape(32*32*3, -1)\n",
    "    print(npimg_transpose_reshape.shape)\n",
    "    \n",
    "    npimg_transpose_back = npimg_transpose_reshape.reshape(32, 32, 3)\n",
    "    print(npimg_transpose_back.shape)\n",
    "    \n",
    "    #plt.imshow(npimg_transpose)\n",
    "    plt.imshow(npimg_transpose_back)\n",
    "    plt.show()\n",
    "    \n",
    "examples = iter(test_loader)\n",
    "example_data, example_targets = examples.next()\n",
    "image = example_data[0]\n",
    "imshow_try(image)"
   ]
  }
 ],
 "metadata": {
  "kernelspec": {
   "display_name": "Python 3",
   "language": "python",
   "name": "python3"
  },
  "language_info": {
   "codemirror_mode": {
    "name": "ipython",
    "version": 3
   },
   "file_extension": ".py",
   "mimetype": "text/x-python",
   "name": "python",
   "nbconvert_exporter": "python",
   "pygments_lexer": "ipython3",
   "version": "3.7.7"
  }
 },
 "nbformat": 4,
 "nbformat_minor": 4
}
